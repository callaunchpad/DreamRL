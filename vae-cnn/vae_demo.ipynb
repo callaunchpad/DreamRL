{
 "cells": [
  {
   "cell_type": "code",
   "execution_count": null,
   "metadata": {},
   "outputs": [],
   "source": [
    "import numpy as np\n",
    "import matplotlib.pyplot as plt\n",
    "from vae import VAE"
   ]
  },
  {
   "cell_type": "code",
   "execution_count": null,
   "metadata": {},
   "outputs": [],
   "source": [
    "lunar_data_path = 'LunarLander-v2_img_10_200.npz'\n",
    "lunar_data = np.load(lunar_data_path)"
   ]
  },
  {
   "cell_type": "code",
   "execution_count": null,
   "metadata": {
    "scrolled": true
   },
   "outputs": [],
   "source": [
    "lunar_vae_32 = VAE()\n",
    "lunar_vae_32.make_vae(lunar_data_path, 32)\n",
    "lunar_vae_32.load_model('LunarLander_32.h5')\n",
    "\n",
    "lunar_vae_64 = VAE()\n",
    "lunar_vae_64.make_vae(lunar_data_path, 64)\n",
    "lunar_vae_64.load_model('LunarLander_64.h5')"
   ]
  },
  {
   "cell_type": "markdown",
   "metadata": {},
   "source": [
    "Here's what a typical frame from this environment will look like."
   ]
  },
  {
   "cell_type": "code",
   "execution_count": null,
   "metadata": {},
   "outputs": [],
   "source": [
    "img0 = lunar_data['arr_0'][5]\n",
    "plt.imshow(img0)"
   ]
  },
  {
   "cell_type": "code",
   "execution_count": null,
   "metadata": {},
   "outputs": [],
   "source": [
    "z0 = lunar_vae_32.encode_image(np.array([img0]))\n",
    "z0"
   ]
  },
  {
   "cell_type": "code",
   "execution_count": null,
   "metadata": {},
   "outputs": [],
   "source": [
    "rec0 = lunar_vae_32.decode_latent(z0)[0]\n",
    "f, axarr = plt.subplots(1,2)\n",
    "axarr[0].imshow(img0)\n",
    "axarr[1].imshow(rec0)\n",
    "plt.show()"
   ]
  },
  {
   "cell_type": "code",
   "execution_count": null,
   "metadata": {},
   "outputs": [],
   "source": [
    "compression = 80 * 80 * 3 / 32\n",
    "print(str(compression) + \"x compression ratio!\")"
   ]
  },
  {
   "cell_type": "markdown",
   "metadata": {},
   "source": [
    "Not exactly the same (a little noisy), but gets the gist of it!\n",
    "\n",
    "What happens if we mess with the latent vector a bit, or generate a random latent vector?\n",
    "Let's nudge our latent vector a bit"
   ]
  },
  {
   "cell_type": "code",
   "execution_count": null,
   "metadata": {},
   "outputs": [],
   "source": [
    "z0 += 5 * 1.2\n",
    "rec0 = lunar_vae_32.decode_latent(z0)[0]\n",
    "plt.imshow(rec0)"
   ]
  },
  {
   "cell_type": "code",
   "execution_count": null,
   "metadata": {},
   "outputs": [],
   "source": [
    "rand = 5"
   ]
  },
  {
   "cell_type": "markdown",
   "metadata": {},
   "source": [
    "Now let's introduce a spaceship."
   ]
  },
  {
   "cell_type": "code",
   "execution_count": null,
   "metadata": {},
   "outputs": [],
   "source": [
    "img1 = lunar_data['arr_8'][30]\n",
    "plt.imshow(img1)"
   ]
  },
  {
   "cell_type": "code",
   "execution_count": null,
   "metadata": {},
   "outputs": [],
   "source": [
    "z1 = lunar_vae_32.encode_image(np.array([img1]))\n",
    "z1"
   ]
  },
  {
   "cell_type": "code",
   "execution_count": null,
   "metadata": {},
   "outputs": [],
   "source": [
    "rec1 = lunar_vae_32.decode_latent(z1)[0]\n",
    "f, axarr = plt.subplots(1,2)\n",
    "axarr[0].imshow(img1)\n",
    "axarr[1].imshow(rec1)\n",
    "plt.show()"
   ]
  },
  {
   "cell_type": "markdown",
   "metadata": {},
   "source": [
    "Terrain looks good if not just a bit fuzzy, but where's the spaceship?\n",
    "\n",
    "A lot of reconstruction loss is going associated with the black/white since they are the extremes. The purple is not quite as big a deal, being sort of close to black anyway. It is in the net's interest to get the terrain right first, will dedicate most of 32-dim latent vector to that.\n",
    "\n",
    "Let's try a bigger latent vector."
   ]
  },
  {
   "cell_type": "code",
   "execution_count": null,
   "metadata": {},
   "outputs": [],
   "source": [
    "z1 = lunar_vae_64.encode_image(np.array([img1]))\n",
    "z1"
   ]
  },
  {
   "cell_type": "code",
   "execution_count": null,
   "metadata": {},
   "outputs": [],
   "source": [
    "rec1 = lunar_vae_64.decode_latent(z1)[0]\n",
    "f, axarr = plt.subplots(1,2)\n",
    "axarr[0].imshow(img1)\n",
    "axarr[1].imshow(rec1)\n",
    "plt.show()"
   ]
  },
  {
   "cell_type": "markdown",
   "metadata": {},
   "source": [
    "Terrain looks more cristp, and at least there's something there now.\n",
    "\n",
    "How about other environments?"
   ]
  },
  {
   "cell_type": "code",
   "execution_count": null,
   "metadata": {},
   "outputs": [],
   "source": [
    "space_data_path = 'SpaceInvaders-v0_img_10_250.npz'\n",
    "space_data = np.load(space_data_path)"
   ]
  },
  {
   "cell_type": "code",
   "execution_count": null,
   "metadata": {
    "scrolled": true
   },
   "outputs": [],
   "source": [
    "space_vae = VAE()\n",
    "space_vae.make_vae(space_data_path, 64)\n",
    "space_vae.load_model('SpaceInvaders_64.h5')"
   ]
  },
  {
   "cell_type": "code",
   "execution_count": null,
   "metadata": {},
   "outputs": [],
   "source": [
    "img2 = space_data['arr_0'][0]\n",
    "plt.imshow(img2)"
   ]
  },
  {
   "cell_type": "code",
   "execution_count": null,
   "metadata": {},
   "outputs": [],
   "source": [
    "z2 = space_vae.encode_image(np.array([img2]))\n",
    "z2"
   ]
  },
  {
   "cell_type": "code",
   "execution_count": null,
   "metadata": {},
   "outputs": [],
   "source": [
    "rec2 = space_vae.decode_latent(z2)[0]\n",
    "f, axarr = plt.subplots(1,2)\n",
    "axarr[0].imshow(img2)\n",
    "axarr[1].imshow(rec2)\n",
    "plt.show()"
   ]
  },
  {
   "cell_type": "code",
   "execution_count": null,
   "metadata": {},
   "outputs": [],
   "source": [
    "img2 = space_data['arr_5'][-1] #also do 8\n",
    "# plt.imshow(img2)\n",
    "z2 = space_vae.encode_image(np.array([img2]))\n",
    "rec2 = space_vae.decode_latent(z2)[0]\n",
    "f, axarr = plt.subplots(1,2)\n",
    "axarr[0].imshow(img2)\n",
    "axarr[1].imshow(rec2)\n",
    "plt.show()"
   ]
  },
  {
   "cell_type": "markdown",
   "metadata": {},
   "source": [
    "All elements pretty much there! (and in the right color too)\n",
    "\n",
    "Exactly how small can we make these latent vectors?\n",
    "\n",
    "Obviously our overall method is way too overpowered for CartPole, but it's a good way to see just how well our VAE can learn features. "
   ]
  },
  {
   "cell_type": "code",
   "execution_count": null,
   "metadata": {},
   "outputs": [],
   "source": [
    "cart_data_path = 'CartPole-v0_img_10_50.npz'\n",
    "cart_data = np.load(cart_data_path)"
   ]
  },
  {
   "cell_type": "code",
   "execution_count": null,
   "metadata": {
    "scrolled": true
   },
   "outputs": [],
   "source": [
    "cart_vae = VAE()\n",
    "cart_vae.make_vae(cart_data_path, 8)\n",
    "cart_vae.load_model('CartPole_8.h5')"
   ]
  },
  {
   "cell_type": "code",
   "execution_count": null,
   "metadata": {},
   "outputs": [],
   "source": [
    "img3 = cart_data['arr_0'][-5] #(0, 0), (0, -5), (1, 15)\n",
    "plt.imshow(img3)"
   ]
  },
  {
   "cell_type": "code",
   "execution_count": null,
   "metadata": {},
   "outputs": [],
   "source": [
    "z3 = cart_vae.encode_image(np.array([img3]))\n",
    "z3"
   ]
  },
  {
   "cell_type": "code",
   "execution_count": null,
   "metadata": {},
   "outputs": [],
   "source": [
    "rec3 = cart_vae.decode_latent(z3)[0]\n",
    "f, axarr = plt.subplots(1,2)\n",
    "axarr[0].imshow(img3)\n",
    "axarr[1].imshow(rec3)\n",
    "plt.show()"
   ]
  },
  {
   "cell_type": "code",
   "execution_count": null,
   "metadata": {},
   "outputs": [],
   "source": []
  }
 ],
 "metadata": {
  "kernelspec": {
   "display_name": "Python 3",
   "language": "python",
   "name": "python3"
  },
  "language_info": {
   "codemirror_mode": {
    "name": "ipython",
    "version": 3
   },
   "file_extension": ".py",
   "mimetype": "text/x-python",
   "name": "python",
   "nbconvert_exporter": "python",
   "pygments_lexer": "ipython3",
   "version": "3.5.5"
  }
 },
 "nbformat": 4,
 "nbformat_minor": 2
}
