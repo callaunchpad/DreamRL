{
 "cells": [
  {
   "cell_type": "code",
   "execution_count": null,
   "metadata": {},
   "outputs": [],
   "source": [
    "%matplotlib inline\n",
    "\n",
    "import numpy as np\n",
    "try:\n",
    "    import cma\n",
    "except ImportError:\n",
    "    !pip install cma\n",
    "import matplotlib\n",
    "import matplotlib.pyplot as plt\n",
    "import matplotlib.cm as cm\n",
    "import ipywidgets"
   ]
  },
  {
   "cell_type": "code",
   "execution_count": null,
   "metadata": {},
   "outputs": [],
   "source": [
    "def optimize_rosenbrock(rosenbrock_dim, init_sigma):\n",
    "    es = cma.CMAEvolutionStrategy(rosenbrock_dim * [0], init_sigma)\n",
    "    candidates = []\n",
    "    while not es.stop():\n",
    "        next_points = es.ask()\n",
    "        candidates.append(next_points)\n",
    "        es.tell(next_points, [cma.ff.rosen(x) for x in next_points])\n",
    "        es.logger.add()\n",
    "        es.disp()\n",
    "    es.result_pretty()\n",
    "    cma.plot()\n",
    "    return candidates"
   ]
  },
  {
   "cell_type": "code",
   "execution_count": null,
   "metadata": {},
   "outputs": [],
   "source": [
    "plt.rcParams[\"figure.figsize\"] = [16,9]\n",
    "two_candidates = optimize_rosenbrock(2, 0.5);\n",
    "def plot_2d(iter_num):\n",
    "    colors = cm.cividis(np.linspace(0, 1, len(two_candidates)))\n",
    "    min_val, max_val = 1e100, 1e-100\n",
    "    for (i, (pts, c)) in enumerate(zip(two_candidates, colors)):\n",
    "        if iter_num != -1 and iter_num not in (i - 3, i - 2, i - 1, i, i + 1):\n",
    "            continue\n",
    "        min_val = min(min(x) for x in pts + [[min_val] * 2])\n",
    "        max_val = max(max(x, y) for x, y in pts + [[max_val] * 2])\n",
    "        plt.scatter(\n",
    "            [x[0] for x in pts],\n",
    "            [x[1] for x in pts],\n",
    "            color=c\n",
    "        )\n",
    "    try:\n",
    "        min_val, max_val = round(min_val, 1), round(max_val, 1)\n",
    "        min_val, max_val = -0.5, 1.5\n",
    "        step_size = (max_val - min_val) / 16.0\n",
    "        tick_range = np.arange(min_val, max_val + step_size, step_size)\n",
    "        plt.xticks(tick_range)\n",
    "        plt.yticks(tick_range)\n",
    "    except ValueError:\n",
    "        pass\n",
    "    plt.show()\n",
    "\n",
    "ipywidgets.interact(plot_2d, iter_num = ipywidgets.FloatSlider(value=-1,\n",
    "                                               min=-1,\n",
    "                                               max=len(two_candidates),\n",
    "                                               step=5));"
   ]
  },
  {
   "cell_type": "code",
   "execution_count": null,
   "metadata": {},
   "outputs": [],
   "source": [
    "from mpl_toolkits.mplot3d import Axes3D  # noqa: F401 unused import\n",
    "three_candidates = optimize_rosenbrock(3, 0.5)\n",
    "\n",
    "def plot_3d(iter_num):\n",
    "    fig = plt.figure()\n",
    "    ax = fig.add_subplot(111, projection='3d')\n",
    "\n",
    "    colors = cm.inferno(np.linspace(0, 1, len(three_candidates)))\n",
    "    min_val, max_val = -0.5, 1.2\n",
    "    for (i, (pts, c)) in enumerate(zip(three_candidates, colors)):\n",
    "        if iter_num != -1 and iter_num not in (i - 3, i - 2, i - 1, i, i + 1):\n",
    "            continue\n",
    "        pts = [x for x in pts if (np.array(x) >= min_val - 0.2).all() and (np.array(x) <= max_val + 0.2).all()]\n",
    "        ax.scatter(\n",
    "            [x[0] for x in pts],\n",
    "            [x[1] for x in pts],\n",
    "            [x[2] for x in pts],\n",
    "            color=c\n",
    "        )\n",
    "    ax.set_xlim([min_val, max_val])\n",
    "    ax.set_ylim([min_val, max_val])\n",
    "    ax.set_zlim([min_val, max_val])\n",
    "    plt.show()\n",
    "\n",
    "ipywidgets.interact(plot_3d, iter_num = ipywidgets.FloatSlider(value=-1,\n",
    "                                           min=-1,\n",
    "                                           max=len(three_candidates),\n",
    "                                           step=5));"
   ]
  },
  {
   "cell_type": "code",
   "execution_count": null,
   "metadata": {},
   "outputs": [],
   "source": []
  }
 ],
 "metadata": {
  "kernelspec": {
   "display_name": "Python 3",
   "language": "python",
   "name": "python3"
  },
  "language_info": {
   "codemirror_mode": {
    "name": "ipython",
    "version": 3
   },
   "file_extension": ".py",
   "mimetype": "text/x-python",
   "name": "python",
   "nbconvert_exporter": "python",
   "pygments_lexer": "ipython3",
   "version": "3.6.5"
  }
 },
 "nbformat": 4,
 "nbformat_minor": 2
}
